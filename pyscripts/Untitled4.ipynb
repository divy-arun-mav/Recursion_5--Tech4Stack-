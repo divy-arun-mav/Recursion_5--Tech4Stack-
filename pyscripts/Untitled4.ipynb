{
  "cells": [
    {
      "cell_type": "code",
      "execution_count": 1,
      "metadata": {
        "colab": {
          "base_uri": "https://localhost:8080/"
        },
        "id": "5YuGew8euPcy",
        "outputId": "1b905967-2695-4789-8390-45cbe59ea38d"
      },
      "outputs": [],
      "source": [
        "pip install --upgrade cosmpy"
      ]
    },
    {
      "cell_type": "code",
      "execution_count": null,
      "metadata": {
        "colab": {
          "base_uri": "https://localhost:8080/"
        },
        "id": "FGUX9OpMug5V",
        "outputId": "a2ed683b-779d-493c-d09c-9f9ab80d461b"
      },
      "outputs": [
        {
          "name": "stdout",
          "output_type": "stream",
          "text": [
            "Name: cosmpy\n",
            "Version: 0.9.2\n",
            "Summary: A library for interacting with the cosmos networks\n",
            "Home-page: https://github.com/fetchai/cosmpy\n",
            "Author: Fetch.AI Limited\n",
            "Author-email: \n",
            "License: Apache-2.0\n",
            "Location: /usr/local/lib/python3.10/dist-packages\n",
            "Requires: bech32, ecdsa, googleapis-common-protos, grpcio, jsonschema, protobuf, pycryptodome, python-dateutil, requests\n",
            "Required-by: \n"
          ]
        }
      ],
      "source": [
        "pip show cosmpy"
      ]
    },
    {
      "cell_type": "code",
      "execution_count": 16,
      "metadata": {
        "id": "4Yufvsqyuww7"
      },
      "outputs": [],
      "source": [
        "import cosmpy\n",
        "from cosmpy.aerial.client import LedgerClient, NetworkConfig\n",
        "\n",
        "# Connect to Fetch.ai Testnet\n",
        "ledger_client = LedgerClient(NetworkConfig.latest_stable_testnet())"
      ]
    },
    {
      "cell_type": "code",
      "execution_count": 17,
      "metadata": {
        "colab": {
          "base_uri": "https://localhost:8080/"
        },
        "id": "HruKkZqpwl55",
        "outputId": "8c254ad1-3f6d-4b79-fd7e-fb4584120bfe"
      },
      "outputs": [
        {
          "name": "stdout",
          "output_type": "stream",
          "text": [
            "[Coin(amount='30000000000000000000', denom='atestfet')]\n"
          ]
        }
      ],
      "source": [
        "import cosmpy\n",
        "from cosmpy.aerial.client import LedgerClient, NetworkConfig\n",
        "\n",
        "ledger_client = LedgerClient(NetworkConfig.latest_stable_testnet())\n",
        "\n",
        "address: str = 'fetch1u7grfagztgvngth4gw7j98mq68qcqa7m8j8juy'\n",
        "balances = ledger_client.query_bank_all_balances(address)\n",
        "print(balances)"
      ]
    },
    {
      "cell_type": "code",
      "execution_count": 18,
      "metadata": {
        "colab": {
          "base_uri": "https://localhost:8080/"
        },
        "id": "NGIhC2LZIedj",
        "outputId": "a507662e-5f64-4627-c4cc-a565c057ee7f"
      },
      "outputs": [
        {
          "name": "stdout",
          "output_type": "stream",
          "text": [
            "Requirement already satisfied: requests in /usr/local/lib/python3.10/dist-packages (2.31.0)\n",
            "Requirement already satisfied: charset-normalizer<4,>=2 in /usr/local/lib/python3.10/dist-packages (from requests) (3.3.2)\n",
            "Requirement already satisfied: idna<4,>=2.5 in /usr/local/lib/python3.10/dist-packages (from requests) (3.6)\n",
            "Requirement already satisfied: urllib3<3,>=1.21.1 in /usr/local/lib/python3.10/dist-packages (from requests) (2.0.7)\n",
            "Requirement already satisfied: certifi>=2017.4.17 in /usr/local/lib/python3.10/dist-packages (from requests) (2024.2.2)\n"
          ]
        }
      ],
      "source": [
        "pip install requests"
      ]
    },
    {
      "cell_type": "code",
      "execution_count": 22,
      "metadata": {
        "colab": {
          "base_uri": "https://localhost:8080/"
        },
        "id": "sCoOeAJuJXhl",
        "outputId": "fda2ce7d-47ad-48fc-b125-6c31edcf6118"
      },
      "outputs": [
        {
          "name": "stdout",
          "output_type": "stream",
          "text": [
            "Fetch.ai (FET) price in USD: 2.77\n"
          ]
        }
      ],
      "source": [
        "import requests\n",
        "COIN_PRICE_URL = \"https://api.coingecko.com/api/v3/simple/price?ids=fetch-ai&vs_currencies=usd\"\n",
        "response = requests.get(COIN_PRICE_URL)\n",
        "data = response.json()\n",
        "price_usd = data['fetch-ai']['usd']\n",
        "print(f\"Fetch.ai (FET) price in USD: {price_usd}\")"
      ]
    },
    {
      "cell_type": "code",
      "execution_count": 23,
      "metadata": {
        "colab": {
          "base_uri": "https://localhost:8080/"
        },
        "id": "E6De-fwHNUd6",
        "outputId": "2f342569-2816-42ea-b14e-dacb33703ab3"
      },
      "outputs": [
        {
          "name": "stdout",
          "output_type": "stream",
          "text": [
            "Collecting uagents\n",
            "  Downloading uagents-0.11.0-py3-none-any.whl (45 kB)\n",
            "\u001b[?25l     \u001b[90m━━━━━━━━━━━━━━━━━━━━━━━━━━━━━━━━━━━━━━━━\u001b[0m \u001b[32m0.0/45.5 kB\u001b[0m \u001b[31m?\u001b[0m eta \u001b[36m-:--:--\u001b[0m\r\u001b[2K     \u001b[90m━━━━━━━━━━━━━━━━━━━━━━━━━━━━━━━━━━━━━━━━\u001b[0m \u001b[32m45.5/45.5 kB\u001b[0m \u001b[31m1.4 MB/s\u001b[0m eta \u001b[36m0:00:00\u001b[0m\n",
            "\u001b[?25hRequirement already satisfied: aiohttp<4.0.0,>=3.8.3 in /usr/local/lib/python3.10/dist-packages (from uagents) (3.9.3)\n",
            "Collecting apispec<7.0.0,>=6.0.2 (from uagents)\n",
            "  Downloading apispec-6.5.0-py3-none-any.whl (30 kB)\n",
            "Requirement already satisfied: bech32<2.0.0,>=1.2.0 in /usr/local/lib/python3.10/dist-packages (from uagents) (1.2.0)\n",
            "Requirement already satisfied: cosmpy<0.10.0,>=0.9.2 in /usr/local/lib/python3.10/dist-packages (from uagents) (0.9.2)\n",
            "Requirement already satisfied: ecdsa<0.19.0,>=0.18.0 in /usr/local/lib/python3.10/dist-packages (from uagents) (0.18.0)\n",
            "Requirement already satisfied: msgpack<2.0.0,>=1.0.4 in /usr/local/lib/python3.10/dist-packages (from uagents) (1.0.8)\n",
            "Collecting pydantic<2.0.0,>=1.10.2 (from uagents)\n",
            "  Downloading pydantic-1.10.14-cp310-cp310-manylinux_2_17_x86_64.manylinux2014_x86_64.whl (3.1 MB)\n",
            "\u001b[2K     \u001b[90m━━━━━━━━━━━━━━━━━━━━━━━━━━━━━━━━━━━━━━━━\u001b[0m \u001b[32m3.1/3.1 MB\u001b[0m \u001b[31m37.1 MB/s\u001b[0m eta \u001b[36m0:00:00\u001b[0m\n",
            "\u001b[?25hCollecting uvicorn<0.21.0,>=0.20.0 (from uagents)\n",
            "  Downloading uvicorn-0.20.0-py3-none-any.whl (56 kB)\n",
            "\u001b[2K     \u001b[90m━━━━━━━━━━━━━━━━━━━━━━━━━━━━━━━━━━━━━━━━\u001b[0m \u001b[32m56.9/56.9 kB\u001b[0m \u001b[31m6.2 MB/s\u001b[0m eta \u001b[36m0:00:00\u001b[0m\n",
            "\u001b[?25hCollecting websockets<11.0,>=10.4 (from uagents)\n",
            "  Downloading websockets-10.4-cp310-cp310-manylinux_2_5_x86_64.manylinux1_x86_64.manylinux_2_17_x86_64.manylinux2014_x86_64.whl (106 kB)\n",
            "\u001b[2K     \u001b[90m━━━━━━━━━━━━━━━━━━━━━━━━━━━━━━━━━━━━━━━━\u001b[0m \u001b[32m106.8/106.8 kB\u001b[0m \u001b[31m9.4 MB/s\u001b[0m eta \u001b[36m0:00:00\u001b[0m\n",
            "\u001b[?25hRequirement already satisfied: aiosignal>=1.1.2 in /usr/local/lib/python3.10/dist-packages (from aiohttp<4.0.0,>=3.8.3->uagents) (1.3.1)\n",
            "Requirement already satisfied: attrs>=17.3.0 in /usr/local/lib/python3.10/dist-packages (from aiohttp<4.0.0,>=3.8.3->uagents) (23.2.0)\n",
            "Requirement already satisfied: frozenlist>=1.1.1 in /usr/local/lib/python3.10/dist-packages (from aiohttp<4.0.0,>=3.8.3->uagents) (1.4.1)\n",
            "Requirement already satisfied: multidict<7.0,>=4.5 in /usr/local/lib/python3.10/dist-packages (from aiohttp<4.0.0,>=3.8.3->uagents) (6.0.5)\n",
            "Requirement already satisfied: yarl<2.0,>=1.0 in /usr/local/lib/python3.10/dist-packages (from aiohttp<4.0.0,>=3.8.3->uagents) (1.9.4)\n",
            "Requirement already satisfied: async-timeout<5.0,>=4.0 in /usr/local/lib/python3.10/dist-packages (from aiohttp<4.0.0,>=3.8.3->uagents) (4.0.3)\n",
            "Requirement already satisfied: packaging>=21.3 in /usr/local/lib/python3.10/dist-packages (from apispec<7.0.0,>=6.0.2->uagents) (23.2)\n",
            "Requirement already satisfied: googleapis-common-protos in /usr/local/lib/python3.10/dist-packages (from cosmpy<0.10.0,>=0.9.2->uagents) (1.62.0)\n",
            "Requirement already satisfied: grpcio in /usr/local/lib/python3.10/dist-packages (from cosmpy<0.10.0,>=0.9.2->uagents) (1.62.0)\n",
            "Requirement already satisfied: jsonschema<5,>=3.2.0 in /usr/local/lib/python3.10/dist-packages (from cosmpy<0.10.0,>=0.9.2->uagents) (4.19.2)\n",
            "Requirement already satisfied: protobuf<5.0dev,>=4.21.6 in /usr/local/lib/python3.10/dist-packages (from cosmpy<0.10.0,>=0.9.2->uagents) (4.25.3)\n",
            "Requirement already satisfied: pycryptodome<4.0.0,>=3.18.0 in /usr/local/lib/python3.10/dist-packages (from cosmpy<0.10.0,>=0.9.2->uagents) (3.20.0)\n",
            "Requirement already satisfied: python-dateutil in /usr/local/lib/python3.10/dist-packages (from cosmpy<0.10.0,>=0.9.2->uagents) (2.8.2)\n",
            "Requirement already satisfied: requests in /usr/local/lib/python3.10/dist-packages (from cosmpy<0.10.0,>=0.9.2->uagents) (2.31.0)\n",
            "Requirement already satisfied: six>=1.9.0 in /usr/local/lib/python3.10/dist-packages (from ecdsa<0.19.0,>=0.18.0->uagents) (1.16.0)\n",
            "Requirement already satisfied: typing-extensions>=4.2.0 in /usr/local/lib/python3.10/dist-packages (from pydantic<2.0.0,>=1.10.2->uagents) (4.10.0)\n",
            "Requirement already satisfied: click>=7.0 in /usr/local/lib/python3.10/dist-packages (from uvicorn<0.21.0,>=0.20.0->uagents) (8.1.7)\n",
            "Collecting h11>=0.8 (from uvicorn<0.21.0,>=0.20.0->uagents)\n",
            "  Downloading h11-0.14.0-py3-none-any.whl (58 kB)\n",
            "\u001b[2K     \u001b[90m━━━━━━━━━━━━━━━━━━━━━━━━━━━━━━━━━━━━━━━━\u001b[0m \u001b[32m58.3/58.3 kB\u001b[0m \u001b[31m7.2 MB/s\u001b[0m eta \u001b[36m0:00:00\u001b[0m\n",
            "\u001b[?25hRequirement already satisfied: jsonschema-specifications>=2023.03.6 in /usr/local/lib/python3.10/dist-packages (from jsonschema<5,>=3.2.0->cosmpy<0.10.0,>=0.9.2->uagents) (2023.12.1)\n",
            "Requirement already satisfied: referencing>=0.28.4 in /usr/local/lib/python3.10/dist-packages (from jsonschema<5,>=3.2.0->cosmpy<0.10.0,>=0.9.2->uagents) (0.33.0)\n",
            "Requirement already satisfied: rpds-py>=0.7.1 in /usr/local/lib/python3.10/dist-packages (from jsonschema<5,>=3.2.0->cosmpy<0.10.0,>=0.9.2->uagents) (0.18.0)\n",
            "Requirement already satisfied: idna>=2.0 in /usr/local/lib/python3.10/dist-packages (from yarl<2.0,>=1.0->aiohttp<4.0.0,>=3.8.3->uagents) (3.6)\n",
            "Requirement already satisfied: charset-normalizer<4,>=2 in /usr/local/lib/python3.10/dist-packages (from requests->cosmpy<0.10.0,>=0.9.2->uagents) (3.3.2)\n",
            "Requirement already satisfied: urllib3<3,>=1.21.1 in /usr/local/lib/python3.10/dist-packages (from requests->cosmpy<0.10.0,>=0.9.2->uagents) (2.0.7)\n",
            "Requirement already satisfied: certifi>=2017.4.17 in /usr/local/lib/python3.10/dist-packages (from requests->cosmpy<0.10.0,>=0.9.2->uagents) (2024.2.2)\n",
            "Installing collected packages: websockets, pydantic, h11, apispec, uvicorn, uagents\n",
            "  Attempting uninstall: pydantic\n",
            "    Found existing installation: pydantic 2.6.3\n",
            "    Uninstalling pydantic-2.6.3:\n",
            "      Successfully uninstalled pydantic-2.6.3\n",
            "Successfully installed apispec-6.5.0 h11-0.14.0 pydantic-1.10.14 uagents-0.11.0 uvicorn-0.20.0 websockets-10.4\n"
          ]
        }
      ],
      "source": [
        "pip install uagents"
      ]
    }
  ],
  "metadata": {
    "colab": {
      "provenance": []
    },
    "kernelspec": {
      "display_name": "Python 3",
      "name": "python3"
    },
    "language_info": {
      "codemirror_mode": {
        "name": "ipython",
        "version": 3
      },
      "file_extension": ".py",
      "mimetype": "text/x-python",
      "name": "python",
      "nbconvert_exporter": "python",
      "pygments_lexer": "ipython3",
      "version": "3.11.5"
    }
  },
  "nbformat": 4,
  "nbformat_minor": 0
}
